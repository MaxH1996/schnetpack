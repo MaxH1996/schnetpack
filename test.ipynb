{
 "cells": [
  {
   "cell_type": "code",
   "execution_count": 1,
   "id": "ca49a188-01c4-47d2-8aff-a38037067d36",
   "metadata": {},
   "outputs": [],
   "source": [
    "import schnetpack.nn as snn\n",
    "import torch.nn as nn\n",
    "import torch"
   ]
  },
  {
   "cell_type": "code",
   "execution_count": 23,
   "id": "3c6a60cb-f26d-444b-a8b1-e66cd6b4a6a9",
   "metadata": {},
   "outputs": [
    {
     "data": {
      "text/plain": [
       "Sequential(\n",
       "  (0): Linear(in_features=2, out_features=2, bias=True)\n",
       "  (1): Linear(in_features=2, out_features=2, bias=True)\n",
       ")"
      ]
     },
     "execution_count": 23,
     "metadata": {},
     "output_type": "execute_result"
    }
   ],
   "source": [
    "def init_zeros(m):\n",
    "    if isinstance(m, nn.Linear):\n",
    "        torch.nn.init.zeros_(m.weight)\n",
    "        m.bias.data.fill_(0.00)\n",
    "\n",
    "net = nn.Sequential(nn.Linear(2, 2), nn.Linear(2, 2))\n",
    "net.apply(init_zeros)"
   ]
  },
  {
   "cell_type": "code",
   "execution_count": 8,
   "id": "90e6cbc1-c7d4-4000-ae16-465e4cabd5ed",
   "metadata": {},
   "outputs": [],
   "source": [
    "outnet = snn.build_mlp(\n",
    "            n_in=128,\n",
    "            n_out=1,\n",
    "            n_hidden=None,\n",
    "            n_layers=1,\n",
    "            activation=nn.SiLU,\n",
    "            weight_init = True\n",
    "        )"
   ]
  },
  {
   "cell_type": "code",
   "execution_count": 10,
   "id": "a39482f0-590a-49db-897b-637e9b47338a",
   "metadata": {},
   "outputs": [
    {
     "data": {
      "text/plain": [
       "Parameter containing:\n",
       "tensor([[0., 0., 0., 0., 0., 0., 0., 0., 0., 0., 0., 0., 0., 0., 0., 0., 0., 0., 0., 0., 0., 0., 0., 0.,\n",
       "         0., 0., 0., 0., 0., 0., 0., 0., 0., 0., 0., 0., 0., 0., 0., 0., 0., 0., 0., 0., 0., 0., 0., 0.,\n",
       "         0., 0., 0., 0., 0., 0., 0., 0., 0., 0., 0., 0., 0., 0., 0., 0., 0., 0., 0., 0., 0., 0., 0., 0.,\n",
       "         0., 0., 0., 0., 0., 0., 0., 0., 0., 0., 0., 0., 0., 0., 0., 0., 0., 0., 0., 0., 0., 0., 0., 0.,\n",
       "         0., 0., 0., 0., 0., 0., 0., 0., 0., 0., 0., 0., 0., 0., 0., 0., 0., 0., 0., 0., 0., 0., 0., 0.,\n",
       "         0., 0., 0., 0., 0., 0., 0., 0.]], requires_grad=True)"
      ]
     },
     "execution_count": 10,
     "metadata": {},
     "output_type": "execute_result"
    }
   ],
   "source": [
    "outnet[0].weight"
   ]
  },
  {
   "cell_type": "code",
   "execution_count": 28,
   "id": "a90f2248-479f-4b57-89e5-a24df11ae912",
   "metadata": {},
   "outputs": [
    {
     "data": {
      "text/plain": [
       "Parameter containing:\n",
       "tensor([[ 0.1354,  0.2091, -0.0439, -0.1978, -0.1208,  0.1788, -0.1177,  0.1794,\n",
       "         -0.1620, -0.1841, -0.2049, -0.0432, -0.0546,  0.1342,  0.0477, -0.0185,\n",
       "         -0.2026, -0.0659, -0.0239, -0.1681, -0.1573,  0.2109,  0.2094,  0.0717,\n",
       "         -0.0266,  0.1913, -0.0981,  0.0193, -0.0381,  0.1670,  0.1412, -0.1397,\n",
       "         -0.1784, -0.1206, -0.0819, -0.0300,  0.1275,  0.0028, -0.1009,  0.0944,\n",
       "         -0.1251,  0.0976,  0.0324,  0.2103, -0.0759,  0.2045,  0.0501,  0.0330,\n",
       "         -0.0878,  0.1648, -0.1916, -0.1052,  0.1656, -0.1548, -0.1672, -0.1701,\n",
       "         -0.0631, -0.2110, -0.0602,  0.0496,  0.0104,  0.1854, -0.1713, -0.1307,\n",
       "          0.0667, -0.1952, -0.0268,  0.1080, -0.1102, -0.2044, -0.1293, -0.2099,\n",
       "         -0.1317,  0.0647, -0.0923, -0.1171, -0.1904,  0.1427, -0.0570, -0.0647,\n",
       "         -0.0420, -0.0032,  0.2004,  0.0669,  0.0867,  0.2132, -0.1419,  0.0524,\n",
       "         -0.0214,  0.1598, -0.2048, -0.1874,  0.0308,  0.0967, -0.1582,  0.0244,\n",
       "          0.1467, -0.0294, -0.1896, -0.0910,  0.1428,  0.1948, -0.1348, -0.0112,\n",
       "          0.0230, -0.1824,  0.0058,  0.1062, -0.1089,  0.0930,  0.0486, -0.1978,\n",
       "         -0.1877,  0.0378, -0.0759, -0.0473,  0.1979, -0.0512, -0.0438,  0.1750,\n",
       "         -0.1111, -0.1959,  0.0350, -0.1986, -0.0654, -0.1693, -0.1520, -0.0301],\n",
       "        [-0.1480,  0.2005, -0.1882, -0.0759,  0.0222,  0.1057, -0.0200,  0.0175,\n",
       "          0.1991,  0.0042, -0.0065, -0.1440, -0.1443, -0.1714, -0.1144, -0.0315,\n",
       "         -0.1766, -0.1375,  0.2124, -0.0409,  0.1523, -0.1776, -0.0599,  0.0893,\n",
       "          0.0181,  0.1598,  0.2138,  0.1885, -0.0442,  0.0111, -0.0681,  0.0404,\n",
       "          0.1266,  0.0502,  0.0883, -0.1068,  0.2124, -0.0444,  0.0085,  0.1798,\n",
       "          0.0327, -0.1680, -0.0660,  0.1203,  0.1608,  0.1099, -0.1284, -0.0778,\n",
       "         -0.1121, -0.1724,  0.0180,  0.0854,  0.1871, -0.0488, -0.0901,  0.0442,\n",
       "         -0.1998, -0.0167, -0.1530, -0.0622, -0.0884, -0.0657,  0.1811, -0.0760,\n",
       "         -0.0739, -0.1396,  0.0345,  0.1532,  0.1364,  0.0419, -0.1013,  0.0511,\n",
       "          0.1269, -0.0710, -0.1553, -0.0419,  0.1508,  0.1516, -0.2084, -0.1350,\n",
       "         -0.1901,  0.1505,  0.0121,  0.0172,  0.1061, -0.0825, -0.1654,  0.1807,\n",
       "          0.0175,  0.0327,  0.0858,  0.0375, -0.1495,  0.1886,  0.1129, -0.0981,\n",
       "          0.1234,  0.0837,  0.1297,  0.0627, -0.0126, -0.0477, -0.0544,  0.0468,\n",
       "         -0.1792, -0.1498,  0.1254, -0.1590,  0.1588,  0.1852, -0.1802,  0.0146,\n",
       "         -0.0777,  0.1564,  0.1777,  0.1318,  0.0290, -0.1993, -0.1953, -0.0926,\n",
       "          0.1653, -0.0998, -0.0229, -0.0913,  0.1680, -0.0644, -0.1760, -0.0026]],\n",
       "       requires_grad=True)"
      ]
     },
     "execution_count": 28,
     "metadata": {},
     "output_type": "execute_result"
    }
   ],
   "source": [
    "outnet[-1].weight"
   ]
  },
  {
   "cell_type": "code",
   "execution_count": 8,
   "id": "681a047c-8e57-438b-b55b-1ae381c5555d",
   "metadata": {},
   "outputs": [
    {
     "name": "stdout",
     "output_type": "stream",
     "text": [
      "tensor([[0., 0., 0., 0., 0., 0., 0., 0., 0., 0., 0., 0., 0., 0., 0., 0., 0., 0., 0., 0., 0., 0., 0., 0.,\n",
      "         0., 0., 0., 0., 0., 0., 0., 0., 0., 0., 0., 0., 0., 0., 0., 0., 0., 0., 0., 0., 0., 0., 0., 0.,\n",
      "         0., 0., 0., 0., 0., 0., 0., 0., 0., 0., 0., 0., 0., 0., 0., 0., 0., 0., 0., 0., 0., 0., 0., 0.,\n",
      "         0., 0., 0., 0., 0., 0., 0., 0., 0., 0., 0., 0., 0., 0., 0., 0., 0., 0., 0., 0., 0., 0., 0., 0.,\n",
      "         0., 0., 0., 0., 0., 0., 0., 0., 0., 0., 0., 0., 0., 0., 0., 0., 0., 0., 0., 0., 0., 0., 0., 0.,\n",
      "         0., 0., 0., 0., 0., 0., 0., 0.],\n",
      "        [0., 0., 0., 0., 0., 0., 0., 0., 0., 0., 0., 0., 0., 0., 0., 0., 0., 0., 0., 0., 0., 0., 0., 0.,\n",
      "         0., 0., 0., 0., 0., 0., 0., 0., 0., 0., 0., 0., 0., 0., 0., 0., 0., 0., 0., 0., 0., 0., 0., 0.,\n",
      "         0., 0., 0., 0., 0., 0., 0., 0., 0., 0., 0., 0., 0., 0., 0., 0., 0., 0., 0., 0., 0., 0., 0., 0.,\n",
      "         0., 0., 0., 0., 0., 0., 0., 0., 0., 0., 0., 0., 0., 0., 0., 0., 0., 0., 0., 0., 0., 0., 0., 0.,\n",
      "         0., 0., 0., 0., 0., 0., 0., 0., 0., 0., 0., 0., 0., 0., 0., 0., 0., 0., 0., 0., 0., 0., 0., 0.,\n",
      "         0., 0., 0., 0., 0., 0., 0., 0.]])\n",
      "tensor([0., 0.])\n",
      "tensor([[0., 0.],\n",
      "        [0., 0.]])\n",
      "tensor([0., 0.])\n"
     ]
    }
   ],
   "source": [
    "for param in outnet.parameters():\n",
    "    print(param.data)"
   ]
  },
  {
   "cell_type": "code",
   "execution_count": 10,
   "id": "b28fb0ce-368b-417c-975c-4a420f0ce7fd",
   "metadata": {},
   "outputs": [],
   "source": [
    "from schnetpack.nn.activations import _switch_component, switch_function\n",
    "d_ij = torch.randint(2,11,(100,))\n",
    "cuton = 1.5\n",
    "cutoff = 7.5\n",
    "sf = switch_function(d_ij, cuton, cutoff)"
   ]
  },
  {
   "cell_type": "code",
   "execution_count": 7,
   "id": "270316f2-505e-4cf5-a010-db1dc53902f5",
   "metadata": {},
   "outputs": [
    {
     "data": {
      "text/plain": [
       "[<matplotlib.lines.Line2D at 0x7f1405598190>]"
      ]
     },
     "execution_count": 7,
     "metadata": {},
     "output_type": "execute_result"
    },
    {
     "data": {
      "image/png": "[encoded data removed]",
      "text/plain": [
       "<Figure size 432x288 with 1 Axes>"
      ]
     },
     "metadata": {
      "needs_background": "light"
     },
     "output_type": "display_data"
    }
   ],
   "source": [
    "import matplotlib.pyplot as plt\n",
    "plt.plot(sf)"
   ]
  },
  {
   "cell_type": "code",
   "execution_count": 11,
   "id": "4f9a6e1e-6850-4a2f-977d-4646c9690194",
   "metadata": {},
   "outputs": [
    {
     "data": {
      "text/plain": [
       "[<matplotlib.lines.Line2D at 0x7f140546feb0>]"
      ]
     },
     "execution_count": 11,
     "metadata": {},
     "output_type": "execute_result"
    },
    {
     "data": {
      "image/png": "[encoded data removed]",
      "text/plain": [
       "<Figure size 432x288 with 1 Axes>"
      ]
     },
     "metadata": {
      "needs_background": "light"
     },
     "output_type": "display_data"
    }
   ],
   "source": [
    "plt.plot(sf)"
   ]
  },
  {
   "cell_type": "code",
   "execution_count": 42,
   "id": "dee846c9-6e3d-4007-8924-8fc6216ad73f",
   "metadata": {},
   "outputs": [],
   "source": []
  },
  {
   "cell_type": "code",
   "execution_count": 57,
   "id": "4681bb24-5d3d-4bea-932f-8b119e1c0c11",
   "metadata": {},
   "outputs": [],
   "source": [
    "import torch.nn.functional as F\n",
    "a = nn.Parameter(torch.tensor([1.,1.,1.,1.]))\n",
    "d_ij = torch.randn(1000)\n",
    "a = F.normalize(a, p=1, dim=0)[..., None]\n",
    "c = torch.randn(4)[..., None]\n",
    "exp = (c*torch.exp((a*d_ij))).sum(0)\n"
   ]
  },
  {
   "cell_type": "code",
   "execution_count": 59,
   "id": "dd23caf7-1fe0-4140-a8f4-2139a78f485d",
   "metadata": {},
   "outputs": [
    {
     "data": {
      "text/plain": [
       "tensor([ 1.1039e-01,  1.4945e+00,  1.0416e+00, -1.2628e+00,  1.2811e+00,\n",
       "         1.5191e+00, -3.2492e+00, -9.0001e-01,  1.3027e+00,  2.2656e+00,\n",
       "         5.8855e-01,  1.4772e+00, -7.4510e+00,  4.3528e-01,  1.6247e-01,\n",
       "        -1.2118e+00, -4.6901e+00, -4.3409e+00, -2.1084e+00,  4.3168e-01,\n",
       "        -5.0089e+00, -5.1536e+00,  1.1828e-01,  1.2207e+00, -3.7416e+00,\n",
       "         2.4631e+00, -2.0161e+00, -1.4096e+00, -7.8209e-01,  2.0066e+00,\n",
       "        -9.9620e-02,  3.7822e-01,  1.3123e+00,  1.1050e+00,  1.0931e+00,\n",
       "        -1.0322e+00,  1.6340e+00,  9.0507e-01, -2.6874e+00,  4.0911e-01,\n",
       "        -4.7149e+00, -6.9286e+00, -4.9041e-01, -8.5999e+00,  2.1731e-01,\n",
       "         7.0847e-01,  2.0892e+00, -1.3288e+00,  2.0084e+00, -1.2421e+00,\n",
       "         3.9386e-01, -5.7665e-01, -8.6093e-01,  9.8254e-02, -4.3873e+00,\n",
       "         1.2461e+00,  1.6838e+00, -8.1856e-01,  1.9349e+00, -7.0153e-01,\n",
       "        -5.3249e+00, -2.4403e+00,  8.8913e-01, -1.3986e+00,  1.5260e+00,\n",
       "         2.6012e+00,  2.5035e-01,  6.0594e-01, -1.0879e+00, -1.3839e+00,\n",
       "         3.2157e-01, -3.2428e+00,  7.3126e-01, -5.5098e-01, -1.3393e+00,\n",
       "         2.0972e+00, -3.4612e+00, -1.0142e+00, -2.1519e+00,  2.6091e+00,\n",
       "        -2.2434e+00, -3.8746e+00, -3.2662e+00, -2.4479e+00, -1.1560e+00,\n",
       "         2.1928e+00, -2.6522e+00, -3.3066e+00,  4.3974e-01, -1.0659e+00,\n",
       "         1.3319e+00, -1.9862e+00, -2.6008e+00, -8.0297e-01, -2.6419e+00,\n",
       "         2.1600e+00, -4.6920e+00,  4.5465e-01,  1.8619e-01,  2.7860e-01,\n",
       "        -1.1335e+00, -1.4872e+00,  1.9283e+00,  2.0355e+00,  8.2130e-01,\n",
       "         5.6401e-01,  1.6758e+00,  1.7327e+00, -1.8861e+00,  1.7710e+00,\n",
       "         1.6207e+00, -2.9798e-01,  1.9323e+00,  1.8346e+00, -5.4903e-01,\n",
       "        -3.5395e-01, -3.5516e+00, -1.2123e+00,  1.3940e-01,  1.4412e+00,\n",
       "         2.5043e+00, -4.5388e-01,  1.4064e-01,  7.0887e-01,  1.2685e+00,\n",
       "        -7.7410e-01, -6.1599e-02, -8.9859e-01,  9.2296e-01, -2.4479e+00,\n",
       "         1.7359e+00,  1.7468e+00,  6.3501e-01, -4.3618e-01, -1.7177e+00,\n",
       "         2.3836e+00, -4.3704e-01, -1.4053e-01,  2.2577e+00, -1.6124e+00,\n",
       "         3.6883e-01, -1.9589e+00, -2.5830e-01, -1.1666e+00,  2.4382e+00,\n",
       "         2.7000e-01,  9.5431e-01,  1.4852e+00,  1.0290e+00, -9.0293e-01,\n",
       "         1.0653e+00, -1.5465e+00, -2.0947e-01,  1.6763e+00, -1.9552e+00,\n",
       "        -5.1098e+00,  2.4198e+00, -2.7681e+00, -2.5319e+00,  2.6371e+00,\n",
       "         6.4073e-01, -9.5898e-01, -1.1300e-01,  1.7572e+00, -2.5812e+00,\n",
       "         1.0685e+00, -4.3738e-01, -1.6666e+00, -2.6125e+00,  3.7419e-01,\n",
       "        -2.6347e-01,  3.8051e-01,  3.8859e-01, -7.3840e+00,  2.1383e+00,\n",
       "         1.8831e+00, -1.6778e+00,  1.6762e+00, -6.4319e-02,  2.6327e+00,\n",
       "        -4.5137e+00,  4.9499e-02,  7.3579e-01, -1.2104e+00,  1.6423e-01,\n",
       "         1.6757e+00, -2.9403e+00,  3.8336e-01, -2.1724e+00, -1.5244e+00,\n",
       "         2.0763e+00, -3.6342e+00, -2.1520e+00, -3.5859e+00,  8.9037e-01,\n",
       "        -3.6463e-01,  1.0275e-01,  1.9948e+00,  1.4857e+00,  2.4932e-01,\n",
       "        -1.6414e-01,  1.6919e+00, -1.5993e-01, -7.8153e-01, -5.2860e-01,\n",
       "         2.0115e+00,  1.2176e+00, -6.4688e+00, -2.1803e+00,  2.1088e-01,\n",
       "        -1.5412e+00, -1.1352e+00, -6.0246e-01, -8.1138e-01, -3.0973e+00,\n",
       "        -4.1020e-01, -6.6286e-01, -1.2379e+00, -3.2488e+00, -1.0464e+00,\n",
       "         2.4564e+00,  1.5282e+00,  2.4864e+00, -5.4899e-02, -5.6287e-01,\n",
       "        -1.1380e+00, -4.0364e+00, -3.2486e+00,  4.7487e-01,  2.4480e+00,\n",
       "         2.5535e-01,  1.5847e+00,  1.9992e+00, -2.3769e-01, -2.5751e+00,\n",
       "         1.8060e+00, -3.5689e+00,  1.9724e+00, -6.7138e-01, -6.8111e-01,\n",
       "        -1.2613e+00, -9.7690e+00,  2.2256e+00, -5.7907e-01, -3.6843e+00,\n",
       "         1.3129e+00, -6.3496e+00,  7.2041e-01,  7.8106e-01,  1.6818e+00,\n",
       "        -2.9706e-01, -7.3278e-01,  4.5513e-01,  1.5402e+00, -6.8219e-01,\n",
       "        -6.5400e-01, -8.7739e-02,  8.0443e-02, -4.3030e+00,  6.6554e-01,\n",
       "         1.5166e+00, -2.1658e-01,  6.7916e-01, -6.1029e-01,  4.0610e-01,\n",
       "         1.3983e+00,  1.1255e+00,  2.3089e+00,  1.3260e+00, -4.9418e-01,\n",
       "        -1.1324e+00, -7.0861e-01,  1.0361e+00,  1.1937e+00,  5.5212e-01,\n",
       "         1.2164e+00,  4.3176e-01,  1.3504e+00, -4.1221e+00,  1.2075e+00,\n",
       "        -1.9379e+00, -7.2821e-01, -2.0231e+00, -2.4410e+00,  1.1009e+00,\n",
       "         3.8563e-01, -5.5739e-01, -9.6730e-01,  1.2032e+00,  5.2818e-01,\n",
       "         1.6926e+00, -1.1881e+00, -4.0314e+00, -1.4614e+00, -1.4744e+00,\n",
       "         2.4162e+00, -2.9094e+00, -9.4401e-01, -2.7831e+00, -3.2566e-01,\n",
       "        -4.3473e+00,  1.7383e+00, -1.4727e+00,  8.1324e-01,  5.7981e-01,\n",
       "         2.4835e+00,  7.1324e-01,  1.5565e+00,  8.1778e-01,  2.0190e+00,\n",
       "        -6.3902e-01,  2.1189e-01,  9.4255e-02, -2.9485e+00, -4.1785e-01,\n",
       "        -2.1230e+00, -4.9833e-01,  1.3659e-01, -3.7300e-01, -4.8740e+00,\n",
       "        -1.7742e+00, -2.1735e-01,  1.0364e+00, -1.8484e-01,  5.8929e-01,\n",
       "        -9.3970e-01,  4.4521e-01,  2.7262e-01,  1.1626e-01,  3.5856e-01,\n",
       "        -8.0855e+00,  5.0226e-01, -6.2689e-01,  2.1027e+00, -1.7631e-01,\n",
       "        -1.7035e+00,  8.2359e-01, -4.5362e-01,  1.7152e+00,  4.8671e-01,\n",
       "        -2.5677e+00, -2.3047e+00,  1.7786e+00, -4.9137e+00,  1.7786e+00,\n",
       "        -5.0642e-01, -8.9626e-01,  2.0788e+00,  9.0345e-01, -7.3446e-01,\n",
       "        -1.3289e+00,  2.0495e+00, -6.6282e+00,  1.2261e+00, -2.7023e+00,\n",
       "        -1.5481e+00,  7.2770e-01,  1.2597e+00, -4.3072e-01, -2.7784e-01,\n",
       "        -4.5318e+00,  1.8334e+00,  1.7915e+00,  2.5382e-01,  1.6759e+00,\n",
       "        -1.8828e+00, -2.3041e+00, -2.2352e+00,  1.8712e+00, -3.6714e+00,\n",
       "        -3.7876e-01,  1.8589e+00,  1.1652e+00,  1.1647e+00, -1.3778e+00,\n",
       "        -1.4986e+00,  3.7681e-01, -5.7701e-02, -2.3153e+00,  3.1287e-02,\n",
       "         4.3215e-01,  9.0143e-01,  1.1726e+00, -1.2730e+00, -6.2027e-01,\n",
       "         2.0696e+00,  1.8537e+00,  8.9249e-01, -2.9929e+00,  5.4122e-01,\n",
       "        -1.4926e+00, -1.9394e+00,  5.5420e-01,  7.9864e-01,  1.5340e+00,\n",
       "        -1.7458e+00,  2.4001e+00,  2.5632e-01,  2.1406e-01, -2.6980e-02,\n",
       "         6.0625e-01,  1.2438e+00, -2.2230e+00, -6.6714e-01,  1.2745e+00,\n",
       "         1.0202e+00,  1.8530e+00, -1.9223e+00,  8.2565e-01, -5.3184e+00,\n",
       "         5.3580e-01,  1.7179e-01,  1.6186e+00,  6.5175e-01,  5.6432e-01,\n",
       "         8.1317e-01, -5.2087e-01,  6.3501e-01, -1.8945e+00,  1.5984e-02,\n",
       "        -3.9189e-01,  2.0709e+00,  1.1612e+00,  6.0374e-01,  9.2721e-01,\n",
       "        -4.6811e+00, -6.7484e-01, -1.3885e+00,  2.1591e+00,  1.3739e+00,\n",
       "        -2.1339e+00,  1.4292e+00,  8.0762e-01, -4.0690e+00,  1.4839e+00,\n",
       "         6.8326e-01,  2.0564e+00, -1.6366e+00,  1.0668e+00, -3.0334e-01,\n",
       "         2.8880e-01,  5.7309e-01, -1.0897e+01, -4.0710e+00,  1.2454e+00,\n",
       "         8.7497e-01,  2.0712e+00, -1.0791e+00, -1.5342e+00,  2.3912e+00,\n",
       "        -4.2149e-01, -8.1351e+00,  2.5808e+00,  4.9190e-01, -2.6718e+00,\n",
       "        -5.3809e-01,  1.7807e+00,  1.2318e+00,  6.6162e-01,  8.6122e-01,\n",
       "        -3.1633e-01,  2.5916e-01, -5.0450e-01, -9.8440e-01,  9.7034e-01,\n",
       "         4.7568e-01,  1.7988e+00,  1.1564e+00, -1.8976e+00, -2.7689e+00,\n",
       "        -8.9779e-01, -3.5332e+00, -2.7694e+00,  2.1005e+00,  7.3828e-01,\n",
       "         9.9676e-01,  1.0258e+00,  1.8830e+00, -1.0936e+00, -3.3143e+00,\n",
       "        -1.7486e-01,  9.5056e-02, -3.0888e+00, -6.6639e-01, -1.2567e+00,\n",
       "        -2.4042e+00, -9.6652e-01, -1.5368e+00,  4.5123e-01, -2.5730e+00,\n",
       "         1.7465e+00, -8.7831e+00, -2.8686e+00,  2.5263e+00,  9.8062e-01,\n",
       "        -3.3654e+00, -1.4285e+00, -1.7876e+00, -2.4996e+00,  1.6018e+00,\n",
       "         6.3186e-01, -7.9703e-02,  5.5914e-01, -2.1420e+00,  1.9189e-01,\n",
       "        -1.3201e-01, -7.8400e-01, -1.3829e-01,  3.7882e-02, -6.5233e-01,\n",
       "        -4.4335e-01, -1.0208e+00, -1.6162e-01, -2.0343e+00,  8.4976e-01,\n",
       "        -3.8576e+00,  1.2238e+00,  2.5697e+00,  1.8722e-01,  7.9551e-01,\n",
       "         1.1121e+00,  4.6599e-01, -9.4122e-01,  8.8150e-01, -2.6169e-01,\n",
       "         5.6891e-01, -9.9875e-01,  2.0763e+00,  1.1079e+00,  1.6768e+00,\n",
       "         2.0960e+00, -7.2015e-01,  1.1636e+00, -1.4912e+00, -1.6670e+00,\n",
       "        -7.1889e-01,  1.4855e+00,  6.9278e-01,  2.3189e+00,  1.4562e+00,\n",
       "         1.7675e+00,  2.3586e+00, -3.2265e+00, -1.1297e+00, -5.5027e-01,\n",
       "         1.1587e+00, -4.1690e+00,  2.4120e+00,  6.5708e-01,  1.7666e+00,\n",
       "        -1.8883e+00,  1.2815e+00, -1.7534e+00, -9.2067e-01, -4.9756e+00,\n",
       "         8.6129e-01, -9.4692e-01, -5.1207e-03,  1.9943e+00, -1.8054e+00,\n",
       "         2.9873e-01,  2.6610e+00,  8.3981e-01,  5.6616e-02, -1.8353e+00,\n",
       "         1.3689e+00,  1.8226e+00, -1.6159e+00,  1.7933e+00, -2.4416e+00,\n",
       "         2.2739e-01,  5.5339e-01, -2.6518e-02, -7.6007e-01, -1.4470e-01,\n",
       "        -1.0532e+00,  1.5310e-01, -4.5986e-01, -1.0736e+00,  7.2700e-01,\n",
       "         1.3760e+00,  4.1518e-01,  2.2268e+00,  1.3092e+00, -9.4161e-01,\n",
       "        -1.2032e+00, -3.4037e+00, -3.5958e+00,  1.7574e+00,  2.1264e+00,\n",
       "        -7.8597e-01, -1.5829e+00, -6.0492e-02,  1.4538e+00,  7.9249e-01,\n",
       "         1.2889e+00,  2.7489e-01, -3.2115e+00,  1.1245e+00,  1.0171e+00,\n",
       "        -2.7155e+00, -3.2988e+00,  1.8809e+00, -1.9801e+00,  1.1570e-01,\n",
       "         8.5946e-01,  4.9667e-01,  1.0426e-02, -3.8096e+00,  1.2772e+00,\n",
       "         1.0901e+00, -1.5313e+00, -7.1127e-01,  2.7332e+00,  2.6312e+00,\n",
       "         9.1383e-01, -4.1620e-03,  3.2971e-01, -5.9661e-01,  4.9563e-03,\n",
       "         4.7913e-01,  1.9770e+00, -1.5022e+00,  1.4008e+00,  8.3447e-01,\n",
       "        -3.3405e+00,  1.3270e+00,  4.2414e-02, -1.2714e+01,  1.2956e+00,\n",
       "        -1.4467e+00,  2.1768e-01,  7.7307e-01, -1.2200e+00,  1.8436e-01,\n",
       "        -2.2413e-01,  1.2154e+00,  1.0059e+00, -8.8522e-01,  1.6989e+00,\n",
       "        -1.4921e+00,  8.1433e-01, -4.8689e-01,  7.6170e-02,  6.4245e-01,\n",
       "        -2.6608e+00, -5.2484e+00, -1.3730e+00, -8.2468e-01,  1.4853e+00,\n",
       "         2.0782e+00,  8.9052e-01, -5.2144e+00,  1.3049e+00, -9.6550e-01,\n",
       "         1.9692e+00,  1.6206e+00, -1.1266e+00, -9.6544e-01,  1.0507e+00,\n",
       "        -1.6769e+00, -2.4791e+00, -7.3897e-01,  1.6105e+00, -2.2299e+00,\n",
       "        -7.8985e-01, -1.1558e+00, -7.5215e-01, -2.5925e+00, -8.5378e-01,\n",
       "        -5.4986e-01,  1.4530e+00,  1.6200e-01, -2.1848e-02,  2.1982e+00,\n",
       "        -1.2896e+00, -1.8133e-01,  6.9765e-02, -1.4552e+00, -1.1601e+00,\n",
       "        -4.8783e+00,  9.2730e-01, -1.3488e-01, -3.4628e+00, -2.3742e+00,\n",
       "         1.4116e+00,  2.6448e+00, -1.5824e+00,  3.4401e-01,  3.3870e-01,\n",
       "        -2.1107e+00, -3.5292e+00,  1.6511e+00, -2.2809e+00,  5.0618e-01,\n",
       "         6.7837e-01,  1.3426e+00,  1.9541e-01,  2.1210e+00,  9.6918e-01,\n",
       "         7.5252e-01,  7.9770e-01, -1.4380e+00,  1.0666e+00,  2.3141e+00,\n",
       "        -6.1663e+00, -1.6929e+00,  2.0793e+00,  2.2484e-01,  8.1487e-01,\n",
       "        -1.3299e+01, -9.3961e-01,  2.1802e-01,  3.2680e-01,  7.5637e-01,\n",
       "        -1.5536e+00,  7.3638e-01,  1.1807e+00,  7.5119e-01, -8.3161e-01,\n",
       "         4.5085e-01, -4.1835e-01,  4.9566e-01,  1.0651e+00,  1.4155e+00,\n",
       "        -1.9272e+00,  6.0762e-01,  2.7309e+00,  6.6828e-01,  3.6745e-01,\n",
       "         1.2098e+00,  2.6594e+00, -6.6350e-01, -2.4271e+00, -1.5203e+00,\n",
       "        -1.0610e+00, -6.8073e-01, -7.2540e-02,  2.8442e-01,  7.8190e-01,\n",
       "         1.7366e+00,  1.2658e-01, -2.5320e+00, -5.1339e+00,  6.1501e-01,\n",
       "        -7.1395e+00,  9.6414e-01,  2.5284e+00,  2.4299e+00, -9.2280e-01,\n",
       "         9.2234e-01, -7.6239e-01, -2.0986e-01,  8.9943e-01,  1.5334e+00,\n",
       "        -2.3865e+00,  1.6767e+00,  1.7879e+00, -5.9555e-01, -6.0366e-01,\n",
       "         5.6358e-01,  5.7849e-01,  8.9385e-01,  5.3317e-01,  6.5460e-01,\n",
       "         8.8577e-01,  1.5105e+00,  2.1525e+00, -1.0532e+00, -5.8247e-01,\n",
       "        -3.5519e+00,  1.2935e+00, -3.0106e+00,  3.0890e-01,  1.8852e+00,\n",
       "         4.7854e-01, -5.3913e-01,  1.4636e+00,  1.0143e+00, -4.4818e-02,\n",
       "        -5.5387e+00, -4.4038e-01,  7.6904e-01, -1.2081e-01,  7.6704e-01,\n",
       "         2.0771e+00,  2.1188e+00,  2.0628e+00,  5.0680e-01, -2.5251e+00,\n",
       "         1.9644e+00,  4.0201e-01, -8.3850e-01, -4.0142e-01, -5.3941e-02,\n",
       "         1.3616e+00, -2.8087e+00,  6.2150e-01,  6.0481e-01, -7.1507e+00,\n",
       "         2.1012e+00,  7.7924e-02, -9.7770e+00, -3.0342e+00, -6.0934e+00,\n",
       "         1.8038e+00,  7.6230e-01, -3.4479e+00,  1.6888e+00,  1.3450e+00,\n",
       "        -3.4612e+00, -2.6619e-01, -3.7977e+00, -7.1904e-01,  1.3119e+00,\n",
       "         1.6667e+00,  1.4583e+00, -2.3598e+00, -1.6140e+00, -6.8422e-01,\n",
       "        -3.9183e-01, -3.6681e-01, -5.6213e+00,  2.6818e-01,  9.0984e-01,\n",
       "        -1.2019e+00,  1.9610e+00,  1.0949e+00, -4.9249e-01,  2.2910e+00,\n",
       "        -2.3185e+00, -4.6088e+00, -3.6303e-01, -1.7418e-01,  1.2592e+00,\n",
       "        -9.4374e-01, -5.0299e-01,  9.4176e-02, -1.8432e+00,  2.0417e+00,\n",
       "         1.8027e+00,  1.3534e+00, -2.4856e+00,  2.1208e-01,  2.8987e-01,\n",
       "        -8.9245e-01, -6.9752e-01, -3.3503e+00, -4.4320e-01,  3.9676e-01,\n",
       "         2.3689e+00,  1.6958e+00,  6.6346e-01, -4.6975e+00, -1.4109e+00,\n",
       "         1.9812e+00,  6.5508e-01, -1.4700e+00,  3.4328e-01,  1.0099e+00,\n",
       "         1.2669e+00, -1.0122e+00,  2.1089e+00, -1.5946e+00, -2.9600e+00,\n",
       "         4.3028e-01, -2.5263e-01,  1.2436e+00, -4.5578e-01,  2.7039e+00,\n",
       "         9.5523e-01, -1.2884e+00, -3.7950e+00,  3.8975e-01,  1.2667e+00,\n",
       "         6.0826e-01,  1.1328e+00,  3.5304e-01,  2.6740e+00, -4.1075e+00,\n",
       "         9.1305e-01, -5.8654e-01,  3.4819e-01,  8.5274e-01,  1.8904e+00,\n",
       "        -3.2971e-01, -3.9768e+00, -3.1515e+00, -5.2129e+00,  7.2985e-01,\n",
       "         4.8817e-01,  1.6991e+00,  1.0018e+00, -6.0922e+00,  4.9834e-01,\n",
       "         1.4341e+00, -2.8121e-01,  4.4551e-02, -1.1661e+00,  1.4236e+00,\n",
       "         1.1806e+00, -1.5820e+00,  2.0968e+00, -7.2104e-01, -3.4210e+00,\n",
       "        -1.2499e+00, -1.0948e+00,  7.7229e-01, -6.3974e-01, -7.2523e-01,\n",
       "         6.7268e-01,  1.0803e+00,  2.0419e+00, -5.0134e+00,  2.0146e+00,\n",
       "         1.1213e+00, -1.7571e+00, -5.3969e-01,  2.0561e-01, -3.6217e-01,\n",
       "        -5.9322e-01, -1.8314e+00,  2.5776e-01,  1.3400e+00,  4.1315e-01,\n",
       "         2.3922e+00,  1.9158e+00,  1.8228e-01, -3.3276e-01,  9.9490e-01,\n",
       "         9.8519e-01, -4.5258e-01, -9.3833e-01,  2.0408e-01,  1.4998e+00,\n",
       "         1.1701e+00, -2.1531e+00,  2.3293e-01,  2.1759e+00, -2.3082e+00,\n",
       "        -8.0653e-01, -3.1265e+00,  3.8719e-01, -9.5122e-01,  6.4429e-01,\n",
       "        -3.7246e+00,  8.0256e-01,  2.0336e+00,  2.4987e+00, -1.0508e+00,\n",
       "         1.6267e+00, -4.1330e-01,  8.7675e-01,  1.3422e+00, -1.7668e+00,\n",
       "        -9.1775e-01,  2.2970e+00,  7.4104e-01, -1.9836e+00,  1.5407e+00,\n",
       "         4.8689e-01, -6.2814e-01, -1.0823e+00, -1.9378e+00,  1.6778e+00,\n",
       "         9.6370e-01, -2.6355e-02, -2.1975e-01,  6.5645e-01, -2.0456e+00,\n",
       "         1.1442e+00,  2.3525e+00, -2.7481e+00, -3.9377e+00,  2.0328e+00,\n",
       "        -8.5864e-01, -2.5023e-01, -9.8933e-01,  4.8488e-01, -5.0864e+00,\n",
       "        -2.2889e-01, -2.4602e+00,  6.6124e-01,  1.2677e+00,  1.7304e+00,\n",
       "         1.7334e+00, -1.3758e+00,  1.2606e+00,  1.5514e+00,  9.1127e-01,\n",
       "         1.3373e+00, -3.7264e+00, -2.9208e-01, -1.3414e+00, -1.2675e+00,\n",
       "        -2.0449e+00,  4.3730e-01,  1.7761e+00, -7.8936e-01, -1.8818e-01],\n",
       "       grad_fn=<MulBackward0>)"
      ]
     },
     "execution_count": 59,
     "metadata": {},
     "output_type": "execute_result"
    }
   ],
   "source": [
    "exp*d_ij"
   ]
  },
  {
   "cell_type": "code",
   "execution_count": 37,
   "id": "0805ddf5-c216-4a13-b1c8-e60643c5862d",
   "metadata": {},
   "outputs": [
    {
     "data": {
      "text/plain": [
       "torch.Size([4, 1])"
      ]
     },
     "execution_count": 37,
     "metadata": {},
     "output_type": "execute_result"
    }
   ],
   "source": [
    "a.shape"
   ]
  },
  {
   "cell_type": "code",
   "execution_count": null,
   "id": "03c958cd-d693-4ec1-9661-5e7828a165e2",
   "metadata": {},
   "outputs": [],
   "source": []
  }
 ],
 "metadata": {
  "kernelspec": {
   "display_name": "Python 3",
   "language": "python",
   "name": "python3"
  },
  "language_info": {
   "codemirror_mode": {
    "name": "ipython",
    "version": 3
   },
   "file_extension": ".py",
   "mimetype": "text/x-python",
   "name": "python",
   "nbconvert_exporter": "python",
   "pygments_lexer": "ipython3",
   "version": "3.8.10"
  }
 },
 "nbformat": 4,
 "nbformat_minor": 5
}
